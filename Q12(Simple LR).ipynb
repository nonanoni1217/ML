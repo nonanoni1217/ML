{
 "cells": [
  {
   "cell_type": "code",
   "execution_count": 1,
   "id": "3525ca16",
   "metadata": {},
   "outputs": [],
   "source": [
    "#Q. Implement Simple Linear Regression using analytical method and depict model on scatter data plot.\n",
    "#a) Take x=[1,2,4], y=[2,3,6]\n",
    "\n",
    "import numpy as np\n",
    "import pandas as pd\n",
    "import matplotlib.pyplot as plt\n"
   ]
  },
  {
   "cell_type": "code",
   "execution_count": 3,
   "id": "4968ca5a",
   "metadata": {},
   "outputs": [
    {
     "name": "stdout",
     "output_type": "stream",
     "text": [
      "2.3333333333333335\n",
      "3.6666666666666665\n",
      "3\n",
      "6.333333333333336\n",
      "4.666666666666664\n",
      "1.3571428571428583\n",
      "0.4999999999999969\n"
     ]
    }
   ],
   "source": [
    "x=np.array([1,2,4])\n",
    "y=np.array([2,3,6])\n",
    "x_mean=np.mean(x)\n",
    "print(x_mean)\n",
    "y_mean=np.mean(y)\n",
    "print(y_mean)\n",
    "n=x.size\n",
    "print(n)\n",
    "\n",
    "ss_xy=np.sum(x*y) - n*x_mean*y_mean\n",
    "print(ss_xy)\n",
    "ss_xx=np.sum(x*x) - n*x_mean*x_mean\n",
    "print(ss_xx)\n",
    "b1=ss_xy/ss_xx\n",
    "print(b1)\n",
    "b0=y_mean-b1*x_mean\n",
    "print(b0)"
   ]
  },
  {
   "cell_type": "code",
   "execution_count": 4,
   "id": "2bfb3d84",
   "metadata": {},
   "outputs": [
    {
     "name": "stdout",
     "output_type": "stream",
     "text": [
      "[1.85714286 3.21428571 5.92857143]\n"
     ]
    },
    {
     "data": {
      "image/png": "[encoded data removed]",
      "text/plain": [
       "<Figure size 432x288 with 1 Axes>"
      ]
     },
     "metadata": {
      "needs_background": "light"
     },
     "output_type": "display_data"
    }
   ],
   "source": [
    "plt.scatter(x,y)\n",
    "y_pred=b0+b1*x\n",
    "print(y_pred)\n",
    "plt.plot(x,y_pred,color='red')\n",
    "plt.xlabel(\"x\")\n",
    "plt.ylabel(\"y\")\n",
    "plt.title(\"Linear Regression[x~y]\")\n",
    "plt.show()\n"
   ]
  },
  {
   "cell_type": "code",
   "execution_count": 5,
   "id": "a90aba30",
   "metadata": {},
   "outputs": [],
   "source": [
    "#b) Regress Sales~Radio from Advertisingdata.csv\n",
    "col_list = [\"TV\", \"radio\",\"newspaper\",\"sales\"]\n",
    "data = pd.read_csv(\"Advertising.csv\", usecols=col_list)\n"
   ]
  },
  {
   "cell_type": "code",
   "execution_count": 6,
   "id": "470caf2b",
   "metadata": {},
   "outputs": [
    {
     "data": {
      "text/plain": [
       "0      37.8\n",
       "1      39.3\n",
       "2      45.9\n",
       "3      41.3\n",
       "4      10.8\n",
       "       ... \n",
       "195     3.7\n",
       "196     4.9\n",
       "197     9.3\n",
       "198    42.0\n",
       "199     8.6\n",
       "Name: radio, Length: 200, dtype: float64"
      ]
     },
     "execution_count": 6,
     "metadata": {},
     "output_type": "execute_result"
    }
   ],
   "source": [
    "data[\"sales\"]     #x-axis\n",
    "\n",
    "data[\"radio\"]     #y-axis\n"
   ]
  },
  {
   "cell_type": "code",
   "execution_count": 7,
   "id": "f5690a46",
   "metadata": {},
   "outputs": [
    {
     "name": "stdout",
     "output_type": "stream",
     "text": [
      "14.022500000000003\n",
      "23.264000000000024\n",
      "200\n"
     ]
    }
   ],
   "source": [
    "x_mean=np.mean(data[\"sales\"])\n",
    "print(x_mean)\n",
    "y_mean=np.mean(data[\"radio\"])\n",
    "print(y_mean)\n",
    "n=data[\"sales\"].size\n",
    "print(n)\n"
   ]
  },
  {
   "cell_type": "code",
   "execution_count": 8,
   "id": "ffdd4200",
   "metadata": {},
   "outputs": [
    {
     "name": "stdout",
     "output_type": "stream",
     "text": [
      "8882.50199999992\n",
      "5417.148749999986\n",
      "1.6397005897244272\n",
      "0.27129848058923756\n"
     ]
    }
   ],
   "source": [
    "ss_xy=np.sum(data[\"sales\"]*data[\"radio\"]) - n*x_mean*y_mean\n",
    "print(ss_xy)\n",
    "ss_xx=np.sum(data[\"sales\"]*data[\"sales\"]) - n*x_mean*x_mean\n",
    "print(ss_xx)\n",
    "b1=ss_xy/ss_xx\n",
    "print(b1)\n",
    "b0=y_mean-b1*x_mean\n",
    "print(b0)\n"
   ]
  },
  {
   "cell_type": "code",
   "execution_count": 9,
   "id": "58e46b13",
   "metadata": {},
   "outputs": [
    {
     "name": "stdout",
     "output_type": "stream",
     "text": [
      "0      36.508682\n",
      "1      17.324185\n",
      "2      15.520514\n",
      "3      30.605759\n",
      "4      21.423436\n",
      "         ...    \n",
      "195    12.733023\n",
      "196    16.176394\n",
      "197    21.259466\n",
      "198    42.083664\n",
      "199    22.243286\n",
      "Name: sales, Length: 200, dtype: float64\n"
     ]
    },
    {
     "data": {
      "image/png": "[encoded data removed]",
      "text/plain": [
       "<Figure size 432x288 with 1 Axes>"
      ]
     },
     "metadata": {
      "needs_background": "light"
     },
     "output_type": "display_data"
    }
   ],
   "source": [
    "plt.scatter(data[\"sales\"],data[\"radio\"])\n",
    "y_pred=b0+b1*data[\"sales\"]\n",
    "print(y_pred)\n",
    "plt.plot(data[\"sales\"],y_pred,color='red')\n",
    "plt.xlabel(\"sales\")\n",
    "plt.ylabel(\"radio\")\n",
    "plt.title(\"Linear Regression[Sales~Radio]\")\n",
    "plt.show()\n"
   ]
  },
  {
   "cell_type": "code",
   "execution_count": null,
   "id": "13de0183",
   "metadata": {},
   "outputs": [],
   "source": []
  }
 ],
 "metadata": {
  "kernelspec": {
   "display_name": "Python 3 (ipykernel)",
   "language": "python",
   "name": "python3"
  },
  "language_info": {
   "codemirror_mode": {
    "name": "ipython",
    "version": 3
   },
   "file_extension": ".py",
   "mimetype": "text/x-python",
   "name": "python",
   "nbconvert_exporter": "python",
   "pygments_lexer": "ipython3",
   "version": "3.9.7"
  }
 },
 "nbformat": 4,
 "nbformat_minor": 5
}
