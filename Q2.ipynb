{
 "cells": [
  {
   "cell_type": "code",
   "execution_count": 1,
   "metadata": {},
   "outputs": [
    {
     "name": "stdout",
     "output_type": "stream",
     "text": [
      "Enter number 1: 4\n",
      "Enter number 2: 8\n",
      "Results after boolean operations:------\n",
      "AND : 8\n",
      "OR : 4\n",
      "Checking Equality : False\n",
      "NOT of number 1 : False\n",
      "NOT of number 2 : False\n",
      "XOR : 12\n"
     ]
    }
   ],
   "source": [
    "x=int(input(\"Enter number 1: \"))\n",
    "y=int(input(\"Enter number 2: \"))\n",
    "\n",
    "print(\"Results after boolean operations:------\")\n",
    "\n",
    "print(\"AND :\",x and y)\n",
    "print(\"OR :\",x or y)\n",
    "print(\"Checking Equality :\",x==y)\n",
    "\n",
    "print(\"NOT of number 1 :\",not x)\n",
    "print(\"NOT of number 2 :\",not y)\n",
    "\n",
    "print(\"XOR :\",x^y)\n",
    "\n"
   ]
  },
  {
   "cell_type": "code",
   "execution_count": null,
   "metadata": {},
   "outputs": [],
   "source": []
  }
 ],
 "metadata": {
  "kernelspec": {
   "display_name": "Python 3",
   "language": "python",
   "name": "python3"
  },
  "language_info": {
   "codemirror_mode": {
    "name": "ipython",
    "version": 3
   },
   "file_extension": ".py",
   "mimetype": "text/x-python",
   "name": "python",
   "nbconvert_exporter": "python",
   "pygments_lexer": "ipython3",
   "version": "3.8.5"
  }
 },
 "nbformat": 4,
 "nbformat_minor": 4
}
