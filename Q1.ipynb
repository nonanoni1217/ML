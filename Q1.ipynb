{
 "cells": [
  {
   "cell_type": "code",
   "execution_count": 1,
   "metadata": {},
   "outputs": [
    {
     "name": "stdout",
     "output_type": "stream",
     "text": [
      "Enter number 1: 5\n",
      "Enter number 2: 6\n",
      "Results after elementary maths operations:------\n",
      "Addition:  11\n",
      "Subtraction:  -1\n",
      "Division:  0.8333333333333334\n",
      "Multiplication:  30\n",
      "Exponent:  15625\n"
     ]
    }
   ],
   "source": [
    "x=int(input(\"Enter number 1: \"))\n",
    "y=int(input(\"Enter number 2: \"))\n",
    "\n",
    "print(\"Results after elementary maths operations:------\")\n",
    "\n",
    "print(\"Addition: \",x+y)\n",
    "print(\"Subtraction: \",x-y)\n",
    "if(y!=0):\n",
    "    print(\"Division: \",x/y)\n",
    "else:\n",
    "    print(\"Division not possible!!\")\n",
    "print(\"Multiplication: \",x*y)\n",
    "print(\"Exponent: \",x**y)\n"
   ]
  },
  {
   "cell_type": "code",
   "execution_count": null,
   "metadata": {},
   "outputs": [],
   "source": []
  }
 ],
 "metadata": {
  "kernelspec": {
   "display_name": "Python 3",
   "language": "python",
   "name": "python3"
  },
  "language_info": {
   "codemirror_mode": {
    "name": "ipython",
    "version": 3
   },
   "file_extension": ".py",
   "mimetype": "text/x-python",
   "name": "python",
   "nbconvert_exporter": "python",
   "pygments_lexer": "ipython3",
   "version": "3.8.5"
  }
 },
 "nbformat": 4,
 "nbformat_minor": 4
}
