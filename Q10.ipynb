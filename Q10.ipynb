{
 "cells": [
  {
   "cell_type": "code",
   "execution_count": 1,
   "metadata": {},
   "outputs": [
    {
     "name": "stdout",
     "output_type": "stream",
     "text": [
      "92 98 104 110 \n",
      "218 233 248 263 \n",
      "344 368 392 416 \n"
     ]
    }
   ],
   "source": [
    "A = [[1, 2, 3], \n",
    "    [4, 5, 6], \n",
    "    [7, 8, 9]] \n",
    "  \n",
    "   \n",
    "B = [[10, 11, 12, 13], \n",
    "    [14, 15, 16, 17], \n",
    "    [18, 19, 20, 21]] \n",
    "      \n",
    "result = [[0, 0, 0, 0], \n",
    "        [0, 0, 0, 0], \n",
    "        [0, 0, 0, 0]] \n",
    "  \n",
    "\n",
    "for i in range(len(A)):  \n",
    "    for j in range(len(B[0])):  \n",
    "        for k in range(len(B)): \n",
    "            result[i][j] += A[i][k] * B[k][j] \n",
    "  \n",
    "for i in range(len(result)):\n",
    "    for j in range(len(result[0])):\n",
    "        print(result[i][j],end=\" \")\n",
    "    print()\n"
   ]
  },
  {
   "cell_type": "code",
   "execution_count": null,
   "metadata": {},
   "outputs": [],
   "source": []
  }
 ],
 "metadata": {
  "kernelspec": {
   "display_name": "Python 3",
   "language": "python",
   "name": "python3"
  },
  "language_info": {
   "codemirror_mode": {
    "name": "ipython",
    "version": 3
   },
   "file_extension": ".py",
   "mimetype": "text/x-python",
   "name": "python",
   "nbconvert_exporter": "python",
   "pygments_lexer": "ipython3",
   "version": "3.8.5"
  }
 },
 "nbformat": 4,
 "nbformat_minor": 4
}
