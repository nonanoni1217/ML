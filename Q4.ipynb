{
 "cells": [
  {
   "cell_type": "code",
   "execution_count": 1,
   "metadata": {},
   "outputs": [
    {
     "name": "stdout",
     "output_type": "stream",
     "text": [
      "Single Dimensional Array :\n",
      "---------------------------------------------------------------------------\n",
      "With all zeroes\n",
      "[0 0 0 0 0]\n",
      "\n",
      "With all ones\n",
      "[1 1 1 1 1]\n",
      "\n",
      "With all random integers\n",
      "[6 7 4 1 9]\n",
      "\n",
      "With values within a range\n",
      "[1 2 3 4 5 6 7 8 9]\n",
      "\n",
      "Multi Dimensional Array :\n",
      "---------------------------------------------------------------------------\n",
      "With all zeroes\n",
      "[[0 0 0]\n",
      " [0 0 0]\n",
      " [0 0 0]\n",
      " [0 0 0]]\n",
      "\n",
      "With all ones\n",
      "[[1 1 1]\n",
      " [1 1 1]\n",
      " [1 1 1]\n",
      " [1 1 1]]\n",
      "\n",
      "With all random integers\n",
      "[[5 7 5]\n",
      " [7 9 9]\n",
      " [8 5 8]\n",
      " [6 2 7]]\n",
      "\n",
      "With values within a range\n",
      "[[1 2 3]\n",
      " [4 5 6]\n",
      " [7 8 9]]\n",
      "\n",
      "With diagonal element\n",
      "[[1 0 0 0]\n",
      " [0 1 0 0]\n",
      " [0 0 1 0]\n",
      " [0 0 0 1]]\n",
      "\n"
     ]
    }
   ],
   "source": [
    "import numpy as np\n",
    "\n",
    "print('Single Dimensional Array :')\n",
    "print('---------------------------------------------------------------------------')\n",
    "print('With all zeroes')\n",
    "print(np.zeros(5,int))\n",
    "print()\n",
    "print('With all ones')\n",
    "print(np.ones(5,int))\n",
    "print()\n",
    "print('With all random integers')\n",
    "print(np.random.randint(1,10,5))\n",
    "print()\n",
    "print('With values within a range')\n",
    "print(np.arange(1,10))\n",
    "print()\n",
    "\n",
    "\n",
    "print('Multi Dimensional Array :')\n",
    "print('---------------------------------------------------------------------------')\n",
    "print('With all zeroes')\n",
    "print(np.zeros((4,3),int))\n",
    "print()\n",
    "print('With all ones')\n",
    "print(np.ones((4,3),int))\n",
    "print()\n",
    "print('With all random integers')\n",
    "print(np.random.randint(1,10,(4,3)))\n",
    "print()\n",
    "print('With values within a range')\n",
    "print(np.arange(1,10).reshape(3,3))\n",
    "print()\n",
    "print('With diagonal element')\n",
    "print(np.eye(4,None,0,int))\n",
    "print()\n",
    "\n"
   ]
  },
  {
   "cell_type": "code",
   "execution_count": null,
   "metadata": {},
   "outputs": [],
   "source": []
  }
 ],
 "metadata": {
  "kernelspec": {
   "display_name": "Python 3",
   "language": "python",
   "name": "python3"
  },
  "language_info": {
   "codemirror_mode": {
    "name": "ipython",
    "version": 3
   },
   "file_extension": ".py",
   "mimetype": "text/x-python",
   "name": "python",
   "nbconvert_exporter": "python",
   "pygments_lexer": "ipython3",
   "version": "3.8.5"
  }
 },
 "nbformat": 4,
 "nbformat_minor": 4
}
