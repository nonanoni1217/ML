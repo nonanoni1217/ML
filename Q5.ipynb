{
 "cells": [
  {
   "cell_type": "code",
   "execution_count": 1,
   "metadata": {},
   "outputs": [
    {
     "name": "stdout",
     "output_type": "stream",
     "text": [
      "Array:\n",
      "---------------------------------------------------------------------------\n",
      "[[ 1.74402322  0.09510149  0.32879187]\n",
      " [ 1.25908407 -1.16356907 -1.52914883]\n",
      " [-0.8525191  -2.35169062 -0.14136715]\n",
      " [ 2.87091006 -1.63035467 -1.45916641]]\n",
      "\n",
      "Size of Array:\n",
      "---------------------------------------------------------------------------\n",
      "12\n",
      "\n",
      "Size of particular row (row 2):\n",
      "---------------------------------------------------------------------------\n",
      "4\n",
      "\n",
      "Size of particular column (column 2):\n",
      "---------------------------------------------------------------------------\n",
      "3\n",
      "\n",
      "Taking input from file: \n",
      "---------------------------------------------------------------------------\n"
     ]
    },
    {
     "ename": "FileNotFoundError",
     "evalue": "[Errno 2] No such file or directory: 'numpy2text.txt'",
     "output_type": "error",
     "traceback": [
      "\u001b[1;31m---------------------------------------------------------------------------\u001b[0m",
      "\u001b[1;31mFileNotFoundError\u001b[0m                         Traceback (most recent call last)",
      "\u001b[1;32m<ipython-input-1-7deec565132c>\u001b[0m in \u001b[0;36m<module>\u001b[1;34m\u001b[0m\n\u001b[0;32m     19\u001b[0m \u001b[0mprint\u001b[0m\u001b[1;33m(\u001b[0m\u001b[1;34m'Taking input from file: '\u001b[0m\u001b[1;33m)\u001b[0m\u001b[1;33m\u001b[0m\u001b[1;33m\u001b[0m\u001b[0m\n\u001b[0;32m     20\u001b[0m \u001b[0mprint\u001b[0m\u001b[1;33m(\u001b[0m\u001b[1;34m'---------------------------------------------------------------------------'\u001b[0m\u001b[1;33m)\u001b[0m\u001b[1;33m\u001b[0m\u001b[1;33m\u001b[0m\u001b[0m\n\u001b[1;32m---> 21\u001b[1;33m \u001b[1;32mwith\u001b[0m \u001b[0mopen\u001b[0m\u001b[1;33m(\u001b[0m\u001b[1;34m'numpy2text.txt'\u001b[0m\u001b[1;33m,\u001b[0m \u001b[1;34m'r'\u001b[0m\u001b[1;33m)\u001b[0m \u001b[1;32mas\u001b[0m \u001b[0mf\u001b[0m\u001b[1;33m:\u001b[0m\u001b[1;33m\u001b[0m\u001b[1;33m\u001b[0m\u001b[0m\n\u001b[0m\u001b[0;32m     22\u001b[0m     \u001b[0ml\u001b[0m \u001b[1;33m=\u001b[0m\u001b[0mnp\u001b[0m\u001b[1;33m.\u001b[0m\u001b[0mloadtxt\u001b[0m\u001b[1;33m(\u001b[0m\u001b[0mf\u001b[0m\u001b[1;33m)\u001b[0m\u001b[1;33m\u001b[0m\u001b[1;33m\u001b[0m\u001b[0m\n\u001b[0;32m     23\u001b[0m \u001b[0mprint\u001b[0m\u001b[1;33m(\u001b[0m\u001b[0ml\u001b[0m\u001b[1;33m)\u001b[0m\u001b[1;33m\u001b[0m\u001b[1;33m\u001b[0m\u001b[0m\n",
      "\u001b[1;31mFileNotFoundError\u001b[0m: [Errno 2] No such file or directory: 'numpy2text.txt'"
     ]
    }
   ],
   "source": [
    "import numpy as np\n",
    "arr=np.random.randn(4,3)\n",
    "print('Array:')\n",
    "print('---------------------------------------------------------------------------')\n",
    "print(arr)\n",
    "print()\n",
    "print('Size of Array:')\n",
    "print('---------------------------------------------------------------------------')\n",
    "print(arr.size)\n",
    "print()\n",
    "print('Size of particular row (row 2):')\n",
    "print('---------------------------------------------------------------------------')\n",
    "print(len(arr[:,2]))\n",
    "print()\n",
    "print('Size of particular column (column 2):')\n",
    "print('---------------------------------------------------------------------------')\n",
    "print(len(arr[2,:]))\n",
    "print()\n",
    "print('Taking input from file: ')\n",
    "print('---------------------------------------------------------------------------')\n",
    "with open('numpy2text.txt', 'r') as f:\n",
    "    l =np.loadtxt(f)\n",
    "print(l)\n",
    "print()\n",
    "print('Saving Array to a file: ')\n",
    "print('---------------------------------------------------------------------------')\n",
    "with open('numpy2output.txt', 'wb') as f:\n",
    "    np.savetxt(f,arr)\n",
    "\n"
   ]
  },
  {
   "cell_type": "code",
   "execution_count": null,
   "metadata": {},
   "outputs": [],
   "source": []
  }
 ],
 "metadata": {
  "kernelspec": {
   "display_name": "Python 3",
   "language": "python",
   "name": "python3"
  },
  "language_info": {
   "codemirror_mode": {
    "name": "ipython",
    "version": 3
   },
   "file_extension": ".py",
   "mimetype": "text/x-python",
   "name": "python",
   "nbconvert_exporter": "python",
   "pygments_lexer": "ipython3",
   "version": "3.8.5"
  }
 },
 "nbformat": 4,
 "nbformat_minor": 4
}
