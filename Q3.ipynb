{
 "cells": [
  {
   "cell_type": "code",
   "execution_count": 1,
   "metadata": {},
   "outputs": [
    {
     "name": "stdout",
     "output_type": "stream",
     "text": [
      "String Formatting---------------------\n",
      "0.6666666666666666\n",
      "['This', 'is', 'Machine', 'Learning', 'Program.', 'Hello', 'World']\n",
      "['         This is Machine Learning Program. ', 'Hello World']\n",
      "This is Machine Learning Program. \n",
      "Hello World\n",
      "         THIS IS MACHINE LEARNING PROGRAM. \n",
      "HELLO WORLD\n",
      "         this is machine learning program. \n",
      "hello world\n",
      "         this is machine learning program. \n",
      "hello world\n",
      "         This Is Machine Learning Program. \n",
      "Hello World\n",
      "This_is_Machine_Learning_Program._Hello_World\n",
      "\n",
      "Number Formatting----------------------\n",
      "0\n",
      "0.667\n",
      "0x10\n",
      "0b10000\n",
      "0o20\n"
     ]
    }
   ],
   "source": [
    "x= 2/3\n",
    "z=16\n",
    "y= \"\"\"         This is Machine Learning Program. \n",
    "Hello World\"\"\"\n",
    "\n",
    "print(\"String Formatting---------------------\")\n",
    "print(x)\n",
    "print(y.split())\n",
    "print(y.splitlines())\n",
    "print(y.strip())\n",
    "print(y.upper())\n",
    "print(y.lower())\n",
    "print(y.capitalize())\n",
    "print(y.title())\n",
    "print(\"_\".join(y.split()))\n",
    "print()\n",
    "\n",
    "print(\"Number Formatting----------------------\")\n",
    "print(int(x))\n",
    "print(\"%0.3f\"%(x))\n",
    "print(hex(z))\n",
    "print(bin(z))\n",
    "print(oct(z))\n",
    "\n"
   ]
  },
  {
   "cell_type": "code",
   "execution_count": null,
   "metadata": {},
   "outputs": [],
   "source": []
  }
 ],
 "metadata": {
  "kernelspec": {
   "display_name": "Python 3",
   "language": "python",
   "name": "python3"
  },
  "language_info": {
   "codemirror_mode": {
    "name": "ipython",
    "version": 3
   },
   "file_extension": ".py",
   "mimetype": "text/x-python",
   "name": "python",
   "nbconvert_exporter": "python",
   "pygments_lexer": "ipython3",
   "version": "3.8.5"
  }
 },
 "nbformat": 4,
 "nbformat_minor": 4
}
